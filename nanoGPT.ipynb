{
  "nbformat": 4,
  "nbformat_minor": 0,
  "metadata": {
    "colab": {
      "provenance": [],
      "mount_file_id": "1iS1JYuhCW2BFYUxW6o8FaXANwgPs24vH",
      "authorship_tag": "ABX9TyP6zX1JgqV+j/xPUJumLZYp",
      "include_colab_link": true
    },
    "kernelspec": {
      "name": "python3",
      "display_name": "Python 3"
    },
    "language_info": {
      "name": "python"
    },
    "accelerator": "TPU"
  },
  "cells": [
    {
      "cell_type": "markdown",
      "metadata": {
        "id": "view-in-github",
        "colab_type": "text"
      },
      "source": [
        "<a href=\"https://colab.research.google.com/github/GuilinXie/nanoGPT/blob/main/nanoGPT.ipynb\" target=\"_parent\"><img src=\"https://colab.research.google.com/assets/colab-badge.svg\" alt=\"Open In Colab\"/></a>"
      ]
    },
    {
      "cell_type": "markdown",
      "source": [
        "# nanaGPT: A decoder-style Transformer,"
      ],
      "metadata": {
        "id": "XggORxh6QV_Y"
      }
    },
    {
      "cell_type": "code",
      "source": [
        "import torch\n",
        "import torch.nn as nn"
      ],
      "metadata": {
        "id": "T_IGcyGVUkm_"
      },
      "execution_count": 1,
      "outputs": []
    },
    {
      "cell_type": "markdown",
      "source": [
        "## Masked single attention head"
      ],
      "metadata": {
        "id": "ormXrUl_PV2j"
      }
    },
    {
      "cell_type": "code",
      "source": [
        "class Head(nn.Module):\n",
        "  '''one head of self-attention'''\n",
        "  def __init__(self, head_size):\n",
        "    super().__init__()\n",
        "    self.key = nn.Linear(n_embd, head_size)\n",
        "    self.query = nn.Linear(n_embd, head_size)\n",
        "    self.value = nn.Linear(n_embd, head_size)\n",
        "    self.register_buffer(\"tril\", torch.tril(torch.ones(block_size, block_size)))\n",
        "    self.dropout = nn.Dropout(dropout)\n",
        "  def forward(self, x):\n",
        "    B, T, C = x.shape\n",
        "    k = self.key(x)  #(B, T, head_size)\n",
        "    q = self.query(x) #(B, T, head_size)\n",
        "    v = self.value(x)  #(B, T, head_size)\n",
        "    #compute attention scores(\"affinities\")\n",
        "    wei = q @ k.transpose(-2, -1) * (head_size ** (-0.5)) #(B, T, head_size) @ (B, head_size, T) = (B, T, T)\n",
        "    wei = wei.masked_fill(self.tril[:T, :T] == 0, float(\"-inf\")) #(B, T, T)\n",
        "    wei = F.softmax(wei, dim=-1) #(B, T, T)\n",
        "    wei = self.dropout(wei)\n",
        "    #perform the weighted aggrergation of the values\n",
        "    out = wei @ v # (B, T, T) @ (B, T, head_size) = (B, T, head_size)\n",
        "    return out"
      ],
      "metadata": {
        "id": "vO9yabiZ4oJ4"
      },
      "execution_count": 2,
      "outputs": []
    },
    {
      "cell_type": "markdown",
      "source": [
        "## Maksed Multi-head Attention"
      ],
      "metadata": {
        "id": "T72heVonPb97"
      }
    },
    {
      "cell_type": "code",
      "source": [
        "class MultiHeadAttention(nn.Module):\n",
        "  \"multiple heads of self-attention in parallel\"\n",
        "  def __init__(self, num_heads, head_size):\n",
        "    super().__init__()\n",
        "    self.heads = nn.ModuleList([Head(head_size) for _ in range(num_heads)])\n",
        "    self.proj = nn.Linear(num_heads * head_size, n_embd)\n",
        "    self.dropout = nn.Dropout(dropout)\n",
        "  def forward(self, x):\n",
        "    out = torch.cat([h(x) for h in self.heads], dim=-1)\n",
        "    out = self.proj(out)\n",
        "    out = self.dropout(out)\n",
        "    return out"
      ],
      "metadata": {
        "id": "Sq1EUZDq_5tw"
      },
      "execution_count": 3,
      "outputs": []
    },
    {
      "cell_type": "markdown",
      "source": [
        "## Position-wise Feed-Forward Networks"
      ],
      "metadata": {
        "id": "7b2yO-glPjC1"
      }
    },
    {
      "cell_type": "code",
      "source": [
        "class FeedForward(nn.Module):\n",
        "  '''computation'''\n",
        "  def __init__(self, n_embd):\n",
        "    super().__init__()\n",
        "    self.net = nn.Sequential(\n",
        "        nn.Linear(n_embd, 4 * n_embd),\n",
        "        nn.ReLU(),\n",
        "        nn.Linear(4 * n_embd, n_embd),\n",
        "        nn.Dropout(dropout)\n",
        "    )\n",
        "  def forward(self, x):\n",
        "    return self.net(x)"
      ],
      "metadata": {
        "id": "nRzULhGQ2afI"
      },
      "execution_count": 4,
      "outputs": []
    },
    {
      "cell_type": "markdown",
      "source": [
        "## Block: contains masked multi-head, feedforward, layernorm, and residual connection"
      ],
      "metadata": {
        "id": "AWaLF9qnQwZP"
      }
    },
    {
      "cell_type": "code",
      "source": [
        "class Block(nn.Module):\n",
        "  def __init__(self, n_embd, n_head):\n",
        "    super().__init__()\n",
        "    head_size = n_embd // n_head\n",
        "    self.sa = MultiHeadAttention(n_head, head_size)\n",
        "    self.ffwd = FeedForward(n_embd)\n",
        "    self.ln1 = nn.LayerNorm(n_embd)\n",
        "    self.ln2 = nn.LayerNorm(n_embd)\n",
        "\n",
        "  def forward(self, x):\n",
        "    x = self.sa(self.ln1(x)) + x\n",
        "    x = self.ffwd(self.ln2(x)) + x\n",
        "    return x"
      ],
      "metadata": {
        "id": "3lKRVob3Fkam"
      },
      "execution_count": 5,
      "outputs": []
    },
    {
      "cell_type": "markdown",
      "source": [
        "# The nanoGPT Model\n"
      ],
      "metadata": {
        "id": "uv-WHu1jRmZF"
      }
    },
    {
      "cell_type": "code",
      "source": [
        "import torch\n",
        "import torch.nn as nn\n",
        "from torch.nn import functional as F\n",
        "torch.manual_seed(1337)\n",
        "\n",
        "class DecoderTransformerLM(nn.Module):\n",
        "  '''Decoder Transformer Language Model'''\n",
        "  def __init__(self):\n",
        "      super().__init__()\n",
        "      self.token_embedding_table = nn.Embedding(vocab_size, n_embd)\n",
        "      self.position_embedding_table = nn.Embedding(block_size, n_embd)\n",
        "      self.block = nn.Sequential(*[Block(n_embd, n_head=n_head) for _ in range(n_layer)])\n",
        "      self.ln_f = nn.LayerNorm(n_embd)\n",
        "      self.lm_head = nn.Linear(n_embd, vocab_size)\n",
        "  def forward(self, idx, targets=None):\n",
        "      B, T = idx.shape\n",
        "      tok_emb = self.token_embedding_table(idx) #(B, T, C)\n",
        "      pos_emb = self.position_embedding_table(torch.arange(T, device=device)) # (T, C)\n",
        "      x = tok_emb + pos_emb  #(B, T, C)\n",
        "      self.block(x)\n",
        "      logits = self.lm_head(x) #(B, T, vocab_size)\n",
        "      loss = None\n",
        "      if targets is not None:\n",
        "        B, T, C = logits.shape\n",
        "        logits = logits.view(B * T, C)\n",
        "        targets = targets.view(B * T)\n",
        "        loss = F.cross_entropy(logits, targets)\n",
        "      return logits, loss\n",
        "\n",
        "  def generate(self, idx, max_new_tokens):\n",
        "      for _ in range(max_new_tokens):\n",
        "        # crop idx to the las block_size tokens\n",
        "        idx_cond = idx[:, -block_size:]\n",
        "        logits, _ = self(idx_cond)\n",
        "        logits = logits[:, -1, :] # (B, C)\n",
        "        probs = F.softmax(logits, dim=1) # (B, C)\n",
        "        idx_next = torch.multinomial(probs, num_samples=1) # (B, 1)\n",
        "        idx = torch.cat((idx, idx_next), dim=1)  #(B, T + 1)\n",
        "      return idx"
      ],
      "metadata": {
        "id": "S-Ldp3jNib_K"
      },
      "execution_count": 6,
      "outputs": []
    },
    {
      "cell_type": "markdown",
      "source": [
        "# Estimate loss\n",
        "## At certain iteration, evaluate random batches, and get mean of the losses"
      ],
      "metadata": {
        "id": "4cq0efAhTe1x"
      }
    },
    {
      "cell_type": "code",
      "source": [
        "@torch.no_grad()\n",
        "def estimate_loss():\n",
        "  out = {}\n",
        "  model.eval()\n",
        "  for split in [\"train\", \"val\"]:\n",
        "    losses = torch.zeros(eval_iters)\n",
        "    for k in range(eval_iters):\n",
        "      xb, yb = get_batch(split)\n",
        "      xb = xb.to(device)\n",
        "      yb = yb.to(device)\n",
        "      _, loss = model(xb, yb)\n",
        "      losses[k] = loss.item()\n",
        "    out[split] = losses.mean()\n",
        "  model.train()\n",
        "  return out"
      ],
      "metadata": {
        "id": "_kyYhgui2luI"
      },
      "execution_count": 7,
      "outputs": []
    },
    {
      "cell_type": "markdown",
      "source": [
        "# Hyperparameters"
      ],
      "metadata": {
        "id": "ofWnimIBT3fl"
      }
    },
    {
      "cell_type": "code",
      "source": [
        "torch.manual_seed(1337)\n",
        "# hyperparameters\n",
        "batch_size = 32\n",
        "block_size = 64\n",
        "max_iters = 5000\n",
        "eval_interval = 200\n",
        "learning_rate = 1e-3\n",
        "device = \"cuda\" if torch.cuda.is_available() else \"cpu\"\n",
        "eval_iters = 200\n",
        "n_embd = 64\n",
        "n_head = 8\n",
        "n_layer = 6\n",
        "head_size = n_embd // n_head\n",
        "dropout = 0.2"
      ],
      "metadata": {
        "id": "fzd4woR_3IEd"
      },
      "execution_count": 16,
      "outputs": []
    },
    {
      "cell_type": "markdown",
      "source": [
        "# Get input data"
      ],
      "metadata": {
        "id": "rBLKEWZkPLi5"
      }
    },
    {
      "cell_type": "code",
      "execution_count": 17,
      "metadata": {
        "id": "sQmVXKdQSt2g"
      },
      "outputs": [],
      "source": [
        "input_txt = \"/content/drive/MyDrive/input.txt\"\n",
        "with open(input_txt, \"r\", encoding=\"utf-8\") as f:\n",
        "  text = f.read()\n",
        "chars = sorted(list(set(text)))\n",
        "vocab_size = len(chars)\n",
        "stoi = {ch: i for i, ch in enumerate(chars)}\n",
        "itos = {i: ch for i, ch in enumerate(chars)}\n",
        "encode = lambda s: [stoi[c] for c in s]\n",
        "decode = lambda l: \"\".join(itos[i] for i in l)\n",
        "data = torch.tensor(encode(text), dtype=torch.long)\n",
        "n = int(0.9 * len(data))\n",
        "train_data = data[:n]\n",
        "val_data = data[n:]\n",
        "\n",
        "# dataloader, get random data samples as batches\n",
        "def get_batch(split):\n",
        "  data = train_data if split == \"train\" else val_data\n",
        "  ix = torch.randint(len(data) - block_size, (batch_size, ))\n",
        "  x = torch.stack([data[i: i + block_size] for i in ix])\n",
        "  y = torch.stack([data[i+1: i + block_size + 1] for i in ix])\n",
        "  return x, y\n",
        "\n",
        "xb, yb = get_batch(\"train\")\n",
        "xb = xb.to(device)\n",
        "yb = yb.to(device)"
      ]
    },
    {
      "cell_type": "markdown",
      "source": [
        "# Train loop\n",
        "## Initiate and train the model"
      ],
      "metadata": {
        "id": "MzzprKUjUOw6"
      }
    },
    {
      "cell_type": "code",
      "source": [
        "%%time\n",
        "model = DecoderTransformerLM()\n",
        "model = model.to(device)\n",
        "optimizer = torch.optim.AdamW(model.parameters(), lr=learning_rate)\n",
        "losses_train = {}\n",
        "losses_val = {}\n",
        "for iter in range(max_iters):\n",
        "  if iter % eval_interval == 0:\n",
        "    losses = estimate_loss()\n",
        "    losses_train[iter] = losses['train']\n",
        "    losses_val[iter] = losses['val']\n",
        "    print(f\"step {iter}: train loss {losses['train']:.4f}, val loss {losses['val']:.4f}\")\n",
        "  xb, yb = get_batch(\"train\")\n",
        "  xb = xb.to(device)\n",
        "  yb = yb.to(device)\n",
        "  logits, loss = model(xb, yb)\n",
        "  optimizer.zero_grad()\n",
        "  loss.backward()\n",
        "  optimizer.step()"
      ],
      "metadata": {
        "colab": {
          "base_uri": "https://localhost:8080/"
        },
        "id": "Nvmbm51b3wVW",
        "outputId": "7a3d132b-e6b5-47a0-ec42-1a019e628c63"
      },
      "execution_count": 18,
      "outputs": [
        {
          "output_type": "stream",
          "name": "stdout",
          "text": [
            "step 0: train loss 4.4350, val loss 4.4455\n",
            "step 200: train loss 2.7566, val loss 2.7741\n",
            "step 400: train loss 2.5939, val loss 2.6140\n",
            "step 600: train loss 2.5394, val loss 2.5538\n",
            "step 800: train loss 2.5136, val loss 2.5260\n",
            "step 1000: train loss 2.5047, val loss 2.5186\n",
            "step 1200: train loss 2.4921, val loss 2.5037\n",
            "step 1400: train loss 2.4848, val loss 2.5074\n",
            "step 1600: train loss 2.4808, val loss 2.4997\n",
            "step 1800: train loss 2.4779, val loss 2.5015\n",
            "step 2000: train loss 2.4727, val loss 2.4963\n",
            "step 2200: train loss 2.4728, val loss 2.4910\n",
            "step 2400: train loss 2.4739, val loss 2.4936\n",
            "step 2600: train loss 2.4701, val loss 2.4935\n",
            "step 2800: train loss 2.4699, val loss 2.4930\n",
            "step 3000: train loss 2.4686, val loss 2.4912\n",
            "step 3200: train loss 2.4672, val loss 2.4861\n",
            "step 3400: train loss 2.4664, val loss 2.4853\n",
            "step 3600: train loss 2.4628, val loss 2.4880\n",
            "step 3800: train loss 2.4665, val loss 2.4869\n",
            "step 4000: train loss 2.4665, val loss 2.4873\n",
            "step 4200: train loss 2.4676, val loss 2.4905\n",
            "step 4400: train loss 2.4645, val loss 2.4893\n",
            "step 4600: train loss 2.4652, val loss 2.4868\n",
            "step 4800: train loss 2.4596, val loss 2.4896\n",
            "CPU times: user 29min 14s, sys: 3.06 s, total: 29min 17s\n",
            "Wall time: 29min 33s\n"
          ]
        }
      ]
    },
    {
      "cell_type": "markdown",
      "source": [
        "# Visualize val loss"
      ],
      "metadata": {
        "id": "MrQmdL4bUZJ9"
      }
    },
    {
      "cell_type": "code",
      "source": [
        "import matplotlib.pyplot as plt\n",
        "%matplotlib inline\n",
        "\n",
        "plt.plot(losses_val.keys(), losses_val.values(), label=\"val_loss\")\n",
        "plt.plot(losses_train.keys(), losses_train.values(), label=\"train_loss\")\n",
        "plt.legend()\n",
        "plt.title(\"Training/Validation Loss\")\n",
        "plt.ylabel(\"Loss\")\n",
        "plt.xlabel(\"Iterations\")\n",
        "plt.grid()"
      ],
      "metadata": {
        "id": "cwWwiL2W5Ats",
        "colab": {
          "base_uri": "https://localhost:8080/",
          "height": 472
        },
        "outputId": "bdf1102e-b79f-4221-af94-076456023208"
      },
      "execution_count": 19,
      "outputs": [
        {
          "output_type": "display_data",
          "data": {
            "text/plain": [
              "<Figure size 640x480 with 1 Axes>"
            ],
            "image/png": "[encoded data removed]"
          },
          "metadata": {}
        }
      ]
    },
    {
      "cell_type": "markdown",
      "source": [
        "# Generate Shakespeare-like text"
      ],
      "metadata": {
        "id": "5FX1yJaBUfQ0"
      }
    },
    {
      "cell_type": "code",
      "source": [
        "context = torch.zeros((1, 1), dtype=torch.long, device=device)\n",
        "print(decode(model.generate(context, max_new_tokens=500)[0].tolist()))"
      ],
      "metadata": {
        "id": "RupH1NEEEdgr",
        "colab": {
          "base_uri": "https://localhost:8080/"
        },
        "outputId": "e2eb000a-1141-4db1-f753-397a6c63844a"
      },
      "execution_count": 20,
      "outputs": [
        {
          "output_type": "stream",
          "name": "stdout",
          "text": [
            "\n",
            "Bust fatondd manind th h\n",
            "Mithon ay ifd,\n",
            "And ttsthe use whrreave stil t he? if he.'t of br mays;\n",
            "\n",
            "ARY t atheathatheet measoy wndive:\n",
            "fo sm comerelley t e mort t'd wid yoflls hifly har couconice t, themat ase, t outou, t in tld fods\n",
            "G cer hemyord five SAlang krdene d me;\n",
            "LLULENGLUSAncthodll bring RWhesouthonee:\n",
            "HE:\n",
            "Obr kearoftheaind ms.\n",
            "Greimbeld bel lp--heashe thay ye t IOROROUSAnth he wimo, w t tige aghee Mag fed pr ad con,\n",
            "\n",
            "As cesigily,\n",
            "\n",
            "I he hid thmy winglivercoctofo n m CLMis byo bobeglom.\n",
            "Ma\n"
          ]
        }
      ]
    },
    {
      "cell_type": "code",
      "source": [
        "print(sum(p.numel() for p in model.parameters()) / 1e3, \"K parameters\")"
      ],
      "metadata": {
        "id": "XFBEDhvJxwgf",
        "colab": {
          "base_uri": "https://localhost:8080/"
        },
        "outputId": "a47db833-82f0-472b-a128-743702eca62b"
      },
      "execution_count": 21,
      "outputs": [
        {
          "output_type": "stream",
          "name": "stdout",
          "text": [
            "312.513 K parameters\n"
          ]
        }
      ]
    }
  ]
}